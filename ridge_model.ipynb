{
 "cells": [
  {
   "cell_type": "code",
   "execution_count": 114,
   "id": "ebb9641e",
   "metadata": {},
   "outputs": [],
   "source": [
    "# 1. Define the problem\n",
    "## Predict resale HDB property prices"
   ]
  },
  {
   "cell_type": "code",
   "execution_count": 115,
   "id": "522aa244",
   "metadata": {},
   "outputs": [],
   "source": [
    "# 2. Pre-process data\n",
    "## Collect data\n",
    "## Clean data\n",
    "## Wrangle data"
   ]
  },
  {
   "cell_type": "code",
   "execution_count": 116,
   "id": "692c6483",
   "metadata": {},
   "outputs": [],
   "source": [
    "import pandas as pd\n",
    "import matplotlib.pyplot as plt\n",
    "import seaborn as sns"
   ]
  },
  {
   "cell_type": "code",
   "execution_count": 117,
   "id": "c900be5a",
   "metadata": {},
   "outputs": [],
   "source": [
    "df_hdb = pd.read_csv(\"data.csv\")"
   ]
  },
  {
   "cell_type": "code",
   "execution_count": 118,
   "id": "6c55e080",
   "metadata": {},
   "outputs": [
    {
     "data": {
      "text/html": [
       "<div>\n",
       "<style scoped>\n",
       "    .dataframe tbody tr th:only-of-type {\n",
       "        vertical-align: middle;\n",
       "    }\n",
       "\n",
       "    .dataframe tbody tr th {\n",
       "        vertical-align: top;\n",
       "    }\n",
       "\n",
       "    .dataframe thead th {\n",
       "        text-align: right;\n",
       "    }\n",
       "</style>\n",
       "<table border=\"1\" class=\"dataframe\">\n",
       "  <thead>\n",
       "    <tr style=\"text-align: right;\">\n",
       "      <th></th>\n",
       "      <th>month</th>\n",
       "      <th>town</th>\n",
       "      <th>flat_type</th>\n",
       "      <th>block</th>\n",
       "      <th>street_name</th>\n",
       "      <th>storey_range</th>\n",
       "      <th>floor_area_sqm</th>\n",
       "      <th>flat_model</th>\n",
       "      <th>lease_commence_date</th>\n",
       "      <th>remaining_lease</th>\n",
       "      <th>resale_price</th>\n",
       "    </tr>\n",
       "  </thead>\n",
       "  <tbody>\n",
       "    <tr>\n",
       "      <th>0</th>\n",
       "      <td>2017-01</td>\n",
       "      <td>ANG MO KIO</td>\n",
       "      <td>2 ROOM</td>\n",
       "      <td>406</td>\n",
       "      <td>ANG MO KIO AVE 10</td>\n",
       "      <td>10 TO 12</td>\n",
       "      <td>44.0</td>\n",
       "      <td>Improved</td>\n",
       "      <td>1979</td>\n",
       "      <td>61 years 04 months</td>\n",
       "      <td>232000.0</td>\n",
       "    </tr>\n",
       "    <tr>\n",
       "      <th>1</th>\n",
       "      <td>2017-01</td>\n",
       "      <td>ANG MO KIO</td>\n",
       "      <td>3 ROOM</td>\n",
       "      <td>108</td>\n",
       "      <td>ANG MO KIO AVE 4</td>\n",
       "      <td>01 TO 03</td>\n",
       "      <td>67.0</td>\n",
       "      <td>New Generation</td>\n",
       "      <td>1978</td>\n",
       "      <td>60 years 07 months</td>\n",
       "      <td>250000.0</td>\n",
       "    </tr>\n",
       "    <tr>\n",
       "      <th>2</th>\n",
       "      <td>2017-01</td>\n",
       "      <td>ANG MO KIO</td>\n",
       "      <td>3 ROOM</td>\n",
       "      <td>602</td>\n",
       "      <td>ANG MO KIO AVE 5</td>\n",
       "      <td>01 TO 03</td>\n",
       "      <td>67.0</td>\n",
       "      <td>New Generation</td>\n",
       "      <td>1980</td>\n",
       "      <td>62 years 05 months</td>\n",
       "      <td>262000.0</td>\n",
       "    </tr>\n",
       "    <tr>\n",
       "      <th>3</th>\n",
       "      <td>2017-01</td>\n",
       "      <td>ANG MO KIO</td>\n",
       "      <td>3 ROOM</td>\n",
       "      <td>465</td>\n",
       "      <td>ANG MO KIO AVE 10</td>\n",
       "      <td>04 TO 06</td>\n",
       "      <td>68.0</td>\n",
       "      <td>New Generation</td>\n",
       "      <td>1980</td>\n",
       "      <td>62 years 01 month</td>\n",
       "      <td>265000.0</td>\n",
       "    </tr>\n",
       "    <tr>\n",
       "      <th>4</th>\n",
       "      <td>2017-01</td>\n",
       "      <td>ANG MO KIO</td>\n",
       "      <td>3 ROOM</td>\n",
       "      <td>601</td>\n",
       "      <td>ANG MO KIO AVE 5</td>\n",
       "      <td>01 TO 03</td>\n",
       "      <td>67.0</td>\n",
       "      <td>New Generation</td>\n",
       "      <td>1980</td>\n",
       "      <td>62 years 05 months</td>\n",
       "      <td>265000.0</td>\n",
       "    </tr>\n",
       "  </tbody>\n",
       "</table>\n",
       "</div>"
      ],
      "text/plain": [
       "     month        town flat_type block        street_name storey_range  \\\n",
       "0  2017-01  ANG MO KIO    2 ROOM   406  ANG MO KIO AVE 10     10 TO 12   \n",
       "1  2017-01  ANG MO KIO    3 ROOM   108   ANG MO KIO AVE 4     01 TO 03   \n",
       "2  2017-01  ANG MO KIO    3 ROOM   602   ANG MO KIO AVE 5     01 TO 03   \n",
       "3  2017-01  ANG MO KIO    3 ROOM   465  ANG MO KIO AVE 10     04 TO 06   \n",
       "4  2017-01  ANG MO KIO    3 ROOM   601   ANG MO KIO AVE 5     01 TO 03   \n",
       "\n",
       "   floor_area_sqm      flat_model  lease_commence_date     remaining_lease  \\\n",
       "0            44.0        Improved                 1979  61 years 04 months   \n",
       "1            67.0  New Generation                 1978  60 years 07 months   \n",
       "2            67.0  New Generation                 1980  62 years 05 months   \n",
       "3            68.0  New Generation                 1980   62 years 01 month   \n",
       "4            67.0  New Generation                 1980  62 years 05 months   \n",
       "\n",
       "   resale_price  \n",
       "0      232000.0  \n",
       "1      250000.0  \n",
       "2      262000.0  \n",
       "3      265000.0  \n",
       "4      265000.0  "
      ]
     },
     "execution_count": 118,
     "metadata": {},
     "output_type": "execute_result"
    }
   ],
   "source": [
    "df_hdb.head()"
   ]
  },
  {
   "cell_type": "code",
   "execution_count": 119,
   "id": "194b390f",
   "metadata": {},
   "outputs": [
    {
     "name": "stdout",
     "output_type": "stream",
     "text": [
      "<class 'pandas.core.frame.DataFrame'>\n",
      "RangeIndex: 154668 entries, 0 to 154667\n",
      "Data columns (total 11 columns):\n",
      " #   Column               Non-Null Count   Dtype  \n",
      "---  ------               --------------   -----  \n",
      " 0   month                154668 non-null  object \n",
      " 1   town                 154668 non-null  object \n",
      " 2   flat_type            154668 non-null  object \n",
      " 3   block                154668 non-null  object \n",
      " 4   street_name          154668 non-null  object \n",
      " 5   storey_range         154668 non-null  object \n",
      " 6   floor_area_sqm       154668 non-null  float64\n",
      " 7   flat_model           154668 non-null  object \n",
      " 8   lease_commence_date  154668 non-null  int64  \n",
      " 9   remaining_lease      154668 non-null  object \n",
      " 10  resale_price         154668 non-null  float64\n",
      "dtypes: float64(2), int64(1), object(8)\n",
      "memory usage: 13.0+ MB\n"
     ]
    }
   ],
   "source": [
    "# Check dtype of features\n",
    "df_hdb.info() "
   ]
  },
  {
   "cell_type": "code",
   "execution_count": 120,
   "id": "1bcdb748",
   "metadata": {},
   "outputs": [
    {
     "data": {
      "text/plain": [
       "month                  0\n",
       "town                   0\n",
       "flat_type              0\n",
       "block                  0\n",
       "street_name            0\n",
       "storey_range           0\n",
       "floor_area_sqm         0\n",
       "flat_model             0\n",
       "lease_commence_date    0\n",
       "remaining_lease        0\n",
       "resale_price           0\n",
       "dtype: int64"
      ]
     },
     "execution_count": 120,
     "metadata": {},
     "output_type": "execute_result"
    }
   ],
   "source": [
    "# Check missing values of features\n",
    "df_hdb.isnull().sum()"
   ]
  },
  {
   "cell_type": "code",
   "execution_count": 121,
   "id": "aa94ba37",
   "metadata": {},
   "outputs": [],
   "source": [
    "# Convert 'remaining_lease' in string to 'remaining_lease_months' in numerical"
   ]
  },
  {
   "cell_type": "code",
   "execution_count": 122,
   "id": "937f909e",
   "metadata": {},
   "outputs": [],
   "source": [
    "# Function to convert string to months\n",
    "def convert_to_months(duration_str):\n",
    "    split_parts = duration_str.split(' ')\n",
    "    \n",
    "    if len(split_parts) == 4:\n",
    "        years = int(split_parts[0])\n",
    "        months = int(split_parts[2])\n",
    "        total_months = years * 12 + months\n",
    "    \n",
    "    else:\n",
    "        years = int(split_parts[0])\n",
    "        total_months = years * 12\n",
    "        \n",
    "    return total_months\n",
    "\n",
    "# Apply the conversion function to the Duration column\n",
    "df_hdb['remaining_lease_months']  = df_hdb['remaining_lease'].apply(convert_to_months)"
   ]
  },
  {
   "cell_type": "code",
   "execution_count": 123,
   "id": "6e82ebd5",
   "metadata": {},
   "outputs": [],
   "source": [
    "#drop remaining_lease\n",
    "df_hdb.drop('remaining_lease', axis=1, inplace=True)"
   ]
  },
  {
   "cell_type": "code",
   "execution_count": 124,
   "id": "9ed48a1a",
   "metadata": {},
   "outputs": [
    {
     "data": {
      "text/html": [
       "<div>\n",
       "<style scoped>\n",
       "    .dataframe tbody tr th:only-of-type {\n",
       "        vertical-align: middle;\n",
       "    }\n",
       "\n",
       "    .dataframe tbody tr th {\n",
       "        vertical-align: top;\n",
       "    }\n",
       "\n",
       "    .dataframe thead th {\n",
       "        text-align: right;\n",
       "    }\n",
       "</style>\n",
       "<table border=\"1\" class=\"dataframe\">\n",
       "  <thead>\n",
       "    <tr style=\"text-align: right;\">\n",
       "      <th></th>\n",
       "      <th>month</th>\n",
       "      <th>town</th>\n",
       "      <th>flat_type</th>\n",
       "      <th>block</th>\n",
       "      <th>street_name</th>\n",
       "      <th>storey_range</th>\n",
       "      <th>floor_area_sqm</th>\n",
       "      <th>flat_model</th>\n",
       "      <th>lease_commence_date</th>\n",
       "      <th>resale_price</th>\n",
       "      <th>remaining_lease_months</th>\n",
       "    </tr>\n",
       "  </thead>\n",
       "  <tbody>\n",
       "    <tr>\n",
       "      <th>0</th>\n",
       "      <td>2017-01</td>\n",
       "      <td>ANG MO KIO</td>\n",
       "      <td>2 ROOM</td>\n",
       "      <td>406</td>\n",
       "      <td>ANG MO KIO AVE 10</td>\n",
       "      <td>10 TO 12</td>\n",
       "      <td>44.0</td>\n",
       "      <td>Improved</td>\n",
       "      <td>1979</td>\n",
       "      <td>232000.0</td>\n",
       "      <td>736</td>\n",
       "    </tr>\n",
       "    <tr>\n",
       "      <th>1</th>\n",
       "      <td>2017-01</td>\n",
       "      <td>ANG MO KIO</td>\n",
       "      <td>3 ROOM</td>\n",
       "      <td>108</td>\n",
       "      <td>ANG MO KIO AVE 4</td>\n",
       "      <td>01 TO 03</td>\n",
       "      <td>67.0</td>\n",
       "      <td>New Generation</td>\n",
       "      <td>1978</td>\n",
       "      <td>250000.0</td>\n",
       "      <td>727</td>\n",
       "    </tr>\n",
       "    <tr>\n",
       "      <th>2</th>\n",
       "      <td>2017-01</td>\n",
       "      <td>ANG MO KIO</td>\n",
       "      <td>3 ROOM</td>\n",
       "      <td>602</td>\n",
       "      <td>ANG MO KIO AVE 5</td>\n",
       "      <td>01 TO 03</td>\n",
       "      <td>67.0</td>\n",
       "      <td>New Generation</td>\n",
       "      <td>1980</td>\n",
       "      <td>262000.0</td>\n",
       "      <td>749</td>\n",
       "    </tr>\n",
       "    <tr>\n",
       "      <th>3</th>\n",
       "      <td>2017-01</td>\n",
       "      <td>ANG MO KIO</td>\n",
       "      <td>3 ROOM</td>\n",
       "      <td>465</td>\n",
       "      <td>ANG MO KIO AVE 10</td>\n",
       "      <td>04 TO 06</td>\n",
       "      <td>68.0</td>\n",
       "      <td>New Generation</td>\n",
       "      <td>1980</td>\n",
       "      <td>265000.0</td>\n",
       "      <td>745</td>\n",
       "    </tr>\n",
       "    <tr>\n",
       "      <th>4</th>\n",
       "      <td>2017-01</td>\n",
       "      <td>ANG MO KIO</td>\n",
       "      <td>3 ROOM</td>\n",
       "      <td>601</td>\n",
       "      <td>ANG MO KIO AVE 5</td>\n",
       "      <td>01 TO 03</td>\n",
       "      <td>67.0</td>\n",
       "      <td>New Generation</td>\n",
       "      <td>1980</td>\n",
       "      <td>265000.0</td>\n",
       "      <td>749</td>\n",
       "    </tr>\n",
       "  </tbody>\n",
       "</table>\n",
       "</div>"
      ],
      "text/plain": [
       "     month        town flat_type block        street_name storey_range  \\\n",
       "0  2017-01  ANG MO KIO    2 ROOM   406  ANG MO KIO AVE 10     10 TO 12   \n",
       "1  2017-01  ANG MO KIO    3 ROOM   108   ANG MO KIO AVE 4     01 TO 03   \n",
       "2  2017-01  ANG MO KIO    3 ROOM   602   ANG MO KIO AVE 5     01 TO 03   \n",
       "3  2017-01  ANG MO KIO    3 ROOM   465  ANG MO KIO AVE 10     04 TO 06   \n",
       "4  2017-01  ANG MO KIO    3 ROOM   601   ANG MO KIO AVE 5     01 TO 03   \n",
       "\n",
       "   floor_area_sqm      flat_model  lease_commence_date  resale_price  \\\n",
       "0            44.0        Improved                 1979      232000.0   \n",
       "1            67.0  New Generation                 1978      250000.0   \n",
       "2            67.0  New Generation                 1980      262000.0   \n",
       "3            68.0  New Generation                 1980      265000.0   \n",
       "4            67.0  New Generation                 1980      265000.0   \n",
       "\n",
       "   remaining_lease_months  \n",
       "0                     736  \n",
       "1                     727  \n",
       "2                     749  \n",
       "3                     745  \n",
       "4                     749  "
      ]
     },
     "execution_count": 124,
     "metadata": {},
     "output_type": "execute_result"
    }
   ],
   "source": [
    "df_hdb.head()"
   ]
  },
  {
   "cell_type": "code",
   "execution_count": 125,
   "id": "31722e3d",
   "metadata": {},
   "outputs": [
    {
     "data": {
      "text/html": [
       "<div>\n",
       "<style scoped>\n",
       "    .dataframe tbody tr th:only-of-type {\n",
       "        vertical-align: middle;\n",
       "    }\n",
       "\n",
       "    .dataframe tbody tr th {\n",
       "        vertical-align: top;\n",
       "    }\n",
       "\n",
       "    .dataframe thead th {\n",
       "        text-align: right;\n",
       "    }\n",
       "</style>\n",
       "<table border=\"1\" class=\"dataframe\">\n",
       "  <thead>\n",
       "    <tr style=\"text-align: right;\">\n",
       "      <th></th>\n",
       "      <th>remaining_lease_months</th>\n",
       "      <th>floor_area_sqm</th>\n",
       "      <th>town</th>\n",
       "      <th>storey_range</th>\n",
       "    </tr>\n",
       "  </thead>\n",
       "  <tbody>\n",
       "    <tr>\n",
       "      <th>0</th>\n",
       "      <td>736</td>\n",
       "      <td>44.0</td>\n",
       "      <td>ANG MO KIO</td>\n",
       "      <td>10 TO 12</td>\n",
       "    </tr>\n",
       "    <tr>\n",
       "      <th>1</th>\n",
       "      <td>727</td>\n",
       "      <td>67.0</td>\n",
       "      <td>ANG MO KIO</td>\n",
       "      <td>01 TO 03</td>\n",
       "    </tr>\n",
       "    <tr>\n",
       "      <th>2</th>\n",
       "      <td>749</td>\n",
       "      <td>67.0</td>\n",
       "      <td>ANG MO KIO</td>\n",
       "      <td>01 TO 03</td>\n",
       "    </tr>\n",
       "    <tr>\n",
       "      <th>3</th>\n",
       "      <td>745</td>\n",
       "      <td>68.0</td>\n",
       "      <td>ANG MO KIO</td>\n",
       "      <td>04 TO 06</td>\n",
       "    </tr>\n",
       "    <tr>\n",
       "      <th>4</th>\n",
       "      <td>749</td>\n",
       "      <td>67.0</td>\n",
       "      <td>ANG MO KIO</td>\n",
       "      <td>01 TO 03</td>\n",
       "    </tr>\n",
       "    <tr>\n",
       "      <th>...</th>\n",
       "      <td>...</td>\n",
       "      <td>...</td>\n",
       "      <td>...</td>\n",
       "      <td>...</td>\n",
       "    </tr>\n",
       "    <tr>\n",
       "      <th>154663</th>\n",
       "      <td>732</td>\n",
       "      <td>84.0</td>\n",
       "      <td>YISHUN</td>\n",
       "      <td>04 TO 06</td>\n",
       "    </tr>\n",
       "    <tr>\n",
       "      <th>154664</th>\n",
       "      <td>753</td>\n",
       "      <td>83.0</td>\n",
       "      <td>YISHUN</td>\n",
       "      <td>10 TO 12</td>\n",
       "    </tr>\n",
       "    <tr>\n",
       "      <th>154665</th>\n",
       "      <td>737</td>\n",
       "      <td>84.0</td>\n",
       "      <td>YISHUN</td>\n",
       "      <td>04 TO 06</td>\n",
       "    </tr>\n",
       "    <tr>\n",
       "      <th>154666</th>\n",
       "      <td>761</td>\n",
       "      <td>104.0</td>\n",
       "      <td>YISHUN</td>\n",
       "      <td>04 TO 06</td>\n",
       "    </tr>\n",
       "    <tr>\n",
       "      <th>154667</th>\n",
       "      <td>1125</td>\n",
       "      <td>120.0</td>\n",
       "      <td>YISHUN</td>\n",
       "      <td>07 TO 09</td>\n",
       "    </tr>\n",
       "  </tbody>\n",
       "</table>\n",
       "<p>154668 rows × 4 columns</p>\n",
       "</div>"
      ],
      "text/plain": [
       "        remaining_lease_months  floor_area_sqm        town storey_range\n",
       "0                          736            44.0  ANG MO KIO     10 TO 12\n",
       "1                          727            67.0  ANG MO KIO     01 TO 03\n",
       "2                          749            67.0  ANG MO KIO     01 TO 03\n",
       "3                          745            68.0  ANG MO KIO     04 TO 06\n",
       "4                          749            67.0  ANG MO KIO     01 TO 03\n",
       "...                        ...             ...         ...          ...\n",
       "154663                     732            84.0      YISHUN     04 TO 06\n",
       "154664                     753            83.0      YISHUN     10 TO 12\n",
       "154665                     737            84.0      YISHUN     04 TO 06\n",
       "154666                     761           104.0      YISHUN     04 TO 06\n",
       "154667                    1125           120.0      YISHUN     07 TO 09\n",
       "\n",
       "[154668 rows x 4 columns]"
      ]
     },
     "execution_count": 125,
     "metadata": {},
     "output_type": "execute_result"
    }
   ],
   "source": [
    "X_df_hdb = df_hdb[['remaining_lease_months',\n",
    "                    'floor_area_sqm',\n",
    "                    'town',\n",
    "                    'storey_range']]\n",
    "X_df_hdb"
   ]
  },
  {
   "cell_type": "code",
   "execution_count": 126,
   "id": "b363118d",
   "metadata": {},
   "outputs": [
    {
     "data": {
      "text/plain": [
       "0         232000.0\n",
       "1         250000.0\n",
       "2         262000.0\n",
       "3         265000.0\n",
       "4         265000.0\n",
       "            ...   \n",
       "154663    410000.0\n",
       "154664    455000.0\n",
       "154665    458000.0\n",
       "154666    575000.0\n",
       "154667    715000.0\n",
       "Name: resale_price, Length: 154668, dtype: float64"
      ]
     },
     "execution_count": 126,
     "metadata": {},
     "output_type": "execute_result"
    }
   ],
   "source": [
    "y_df_hdb = df_hdb['resale_price']\n",
    "y_df_hdb"
   ]
  },
  {
   "cell_type": "code",
   "execution_count": 127,
   "id": "508c187a",
   "metadata": {},
   "outputs": [],
   "source": [
    "# Encode categorical columns"
   ]
  },
  {
   "cell_type": "code",
   "execution_count": 128,
   "id": "d47e6759",
   "metadata": {},
   "outputs": [
    {
     "data": {
      "text/plain": [
       "['town', 'storey_range']"
      ]
     },
     "execution_count": 128,
     "metadata": {},
     "output_type": "execute_result"
    }
   ],
   "source": [
    "categorical_columns = X_df_hdb.select_dtypes(include='object').columns.tolist()\n",
    "categorical_columns"
   ]
  },
  {
   "cell_type": "code",
   "execution_count": 129,
   "id": "d1acaedf",
   "metadata": {},
   "outputs": [
    {
     "data": {
      "text/plain": [
       "array(['ANG MO KIO', 'BEDOK', 'BISHAN', 'BUKIT BATOK', 'BUKIT MERAH',\n",
       "       'BUKIT PANJANG', 'BUKIT TIMAH', 'CENTRAL AREA', 'CHOA CHU KANG',\n",
       "       'CLEMENTI', 'GEYLANG', 'HOUGANG', 'JURONG EAST', 'JURONG WEST',\n",
       "       'KALLANG/WHAMPOA', 'MARINE PARADE', 'PASIR RIS', 'PUNGGOL',\n",
       "       'QUEENSTOWN', 'SEMBAWANG', 'SENGKANG', 'SERANGOON', 'TAMPINES',\n",
       "       'TOA PAYOH', 'WOODLANDS', 'YISHUN'], dtype=object)"
      ]
     },
     "execution_count": 129,
     "metadata": {},
     "output_type": "execute_result"
    }
   ],
   "source": [
    "X_df_hdb['town'].unique()"
   ]
  },
  {
   "cell_type": "code",
   "execution_count": 130,
   "id": "211f9fed",
   "metadata": {},
   "outputs": [],
   "source": [
    "town_mapping = {\n",
    "    'ANG MO KIO': 0,\n",
    "    'BEDOK': 1,\n",
    "    'BISHAN': 2,\n",
    "    'BUKIT BATOK': 3,\n",
    "    'BUKIT MERAH': 4,\n",
    "    'BUKIT PANJANG': 5,\n",
    "    'BUKIT TIMAH': 6,\n",
    "    'CENTRAL AREA': 7,\n",
    "    'CHOA CHU KANG': 8,\n",
    "    'CLEMENTI': 9,\n",
    "    'GEYLANG': 10,\n",
    "    'HOUGANG': 11,\n",
    "    'JURONG EAST': 12,\n",
    "    'JURONG WEST': 13,\n",
    "    'KALLANG/WHAMPOA': 14,\n",
    "    'MARINE PARADE': 15,\n",
    "    'PASIR RIS': 16,\n",
    "    'PUNGGOL': 17,\n",
    "    'QUEENSTOWN': 18,\n",
    "    'SEMBAWANG': 19,\n",
    "    'SENGKANG': 20,\n",
    "    'SERANGOON': 21,\n",
    "    'TAMPINES': 22,\n",
    "    'TOA PAYOH': 23,\n",
    "    'WOODLANDS': 24,\n",
    "    'YISHUN': 25\n",
    "}\n"
   ]
  },
  {
   "cell_type": "code",
   "execution_count": 131,
   "id": "fd92542f",
   "metadata": {},
   "outputs": [],
   "source": [
    "storey_mapping = {\n",
    "    '01 TO 03': 0,\n",
    "    '04 TO 06': 1,\n",
    "    '07 TO 09': 2,\n",
    "    '10 TO 12': 3,\n",
    "    '13 TO 15': 4,\n",
    "    '16 TO 18': 5,\n",
    "    '19 TO 21': 6,\n",
    "    '22 TO 24': 7,\n",
    "    '25 TO 27': 8,\n",
    "    '28 TO 30': 9,\n",
    "    '31 TO 33': 10,\n",
    "    '34 TO 36': 11,\n",
    "    '37 TO 39': 12,\n",
    "    '40 TO 42': 13,\n",
    "    '43 TO 45': 14,\n",
    "    '46 TO 48': 15,\n",
    "    '49 TO 51': 16\n",
    "}\n"
   ]
  },
  {
   "cell_type": "code",
   "execution_count": 132,
   "id": "84318ecc",
   "metadata": {},
   "outputs": [
    {
     "name": "stderr",
     "output_type": "stream",
     "text": [
      "C:\\Users\\Zach Chen\\AppData\\Local\\Temp\\ipykernel_11156\\398897315.py:1: SettingWithCopyWarning: \n",
      "A value is trying to be set on a copy of a slice from a DataFrame.\n",
      "Try using .loc[row_indexer,col_indexer] = value instead\n",
      "\n",
      "See the caveats in the documentation: https://pandas.pydata.org/pandas-docs/stable/user_guide/indexing.html#returning-a-view-versus-a-copy\n",
      "  X_df_hdb['town'] = X_df_hdb['town'].map(town_mapping)\n",
      "C:\\Users\\Zach Chen\\AppData\\Local\\Temp\\ipykernel_11156\\398897315.py:2: SettingWithCopyWarning: \n",
      "A value is trying to be set on a copy of a slice from a DataFrame.\n",
      "Try using .loc[row_indexer,col_indexer] = value instead\n",
      "\n",
      "See the caveats in the documentation: https://pandas.pydata.org/pandas-docs/stable/user_guide/indexing.html#returning-a-view-versus-a-copy\n",
      "  X_df_hdb['storey_range'] = X_df_hdb['storey_range'].map(storey_mapping)\n"
     ]
    },
    {
     "data": {
      "text/html": [
       "<div>\n",
       "<style scoped>\n",
       "    .dataframe tbody tr th:only-of-type {\n",
       "        vertical-align: middle;\n",
       "    }\n",
       "\n",
       "    .dataframe tbody tr th {\n",
       "        vertical-align: top;\n",
       "    }\n",
       "\n",
       "    .dataframe thead th {\n",
       "        text-align: right;\n",
       "    }\n",
       "</style>\n",
       "<table border=\"1\" class=\"dataframe\">\n",
       "  <thead>\n",
       "    <tr style=\"text-align: right;\">\n",
       "      <th></th>\n",
       "      <th>remaining_lease_months</th>\n",
       "      <th>floor_area_sqm</th>\n",
       "      <th>town</th>\n",
       "      <th>storey_range</th>\n",
       "    </tr>\n",
       "  </thead>\n",
       "  <tbody>\n",
       "    <tr>\n",
       "      <th>0</th>\n",
       "      <td>736</td>\n",
       "      <td>44.0</td>\n",
       "      <td>0</td>\n",
       "      <td>3</td>\n",
       "    </tr>\n",
       "    <tr>\n",
       "      <th>1</th>\n",
       "      <td>727</td>\n",
       "      <td>67.0</td>\n",
       "      <td>0</td>\n",
       "      <td>0</td>\n",
       "    </tr>\n",
       "    <tr>\n",
       "      <th>2</th>\n",
       "      <td>749</td>\n",
       "      <td>67.0</td>\n",
       "      <td>0</td>\n",
       "      <td>0</td>\n",
       "    </tr>\n",
       "    <tr>\n",
       "      <th>3</th>\n",
       "      <td>745</td>\n",
       "      <td>68.0</td>\n",
       "      <td>0</td>\n",
       "      <td>1</td>\n",
       "    </tr>\n",
       "    <tr>\n",
       "      <th>4</th>\n",
       "      <td>749</td>\n",
       "      <td>67.0</td>\n",
       "      <td>0</td>\n",
       "      <td>0</td>\n",
       "    </tr>\n",
       "  </tbody>\n",
       "</table>\n",
       "</div>"
      ],
      "text/plain": [
       "   remaining_lease_months  floor_area_sqm  town  storey_range\n",
       "0                     736            44.0     0             3\n",
       "1                     727            67.0     0             0\n",
       "2                     749            67.0     0             0\n",
       "3                     745            68.0     0             1\n",
       "4                     749            67.0     0             0"
      ]
     },
     "execution_count": 132,
     "metadata": {},
     "output_type": "execute_result"
    }
   ],
   "source": [
    "X_df_hdb['town'] = X_df_hdb['town'].map(town_mapping)\n",
    "X_df_hdb['storey_range'] = X_df_hdb['storey_range'].map(storey_mapping)\n",
    "X_df_hdb.head()"
   ]
  },
  {
   "cell_type": "code",
   "execution_count": 133,
   "id": "8873c3e9",
   "metadata": {},
   "outputs": [],
   "source": [
    "# Scale all features"
   ]
  },
  {
   "cell_type": "code",
   "execution_count": 134,
   "id": "98565492",
   "metadata": {},
   "outputs": [
    {
     "data": {
      "text/plain": [
       "['scaler.joblib']"
      ]
     },
     "execution_count": 134,
     "metadata": {},
     "output_type": "execute_result"
    }
   ],
   "source": [
    "from sklearn.preprocessing import MinMaxScaler\n",
    "import joblib\n",
    "\n",
    "scaler = MinMaxScaler()\n",
    "X_df_hdb_scaled_array = scaler.fit_transform(X_df_hdb)\n",
    "\n",
    "joblib.dump(scaler, 'scaler.joblib')\n"
   ]
  },
  {
   "cell_type": "code",
   "execution_count": 135,
   "id": "38e37a50",
   "metadata": {},
   "outputs": [
    {
     "data": {
      "text/html": [
       "<div>\n",
       "<style scoped>\n",
       "    .dataframe tbody tr th:only-of-type {\n",
       "        vertical-align: middle;\n",
       "    }\n",
       "\n",
       "    .dataframe tbody tr th {\n",
       "        vertical-align: top;\n",
       "    }\n",
       "\n",
       "    .dataframe thead th {\n",
       "        text-align: right;\n",
       "    }\n",
       "</style>\n",
       "<table border=\"1\" class=\"dataframe\">\n",
       "  <thead>\n",
       "    <tr style=\"text-align: right;\">\n",
       "      <th></th>\n",
       "      <th>remaining_lease_months</th>\n",
       "      <th>floor_area_sqm</th>\n",
       "      <th>town</th>\n",
       "      <th>storey_range</th>\n",
       "    </tr>\n",
       "  </thead>\n",
       "  <tbody>\n",
       "    <tr>\n",
       "      <th>0</th>\n",
       "      <td>0.339879</td>\n",
       "      <td>0.059633</td>\n",
       "      <td>0.0</td>\n",
       "      <td>0.1875</td>\n",
       "    </tr>\n",
       "    <tr>\n",
       "      <th>1</th>\n",
       "      <td>0.326284</td>\n",
       "      <td>0.165138</td>\n",
       "      <td>0.0</td>\n",
       "      <td>0.0000</td>\n",
       "    </tr>\n",
       "    <tr>\n",
       "      <th>2</th>\n",
       "      <td>0.359517</td>\n",
       "      <td>0.165138</td>\n",
       "      <td>0.0</td>\n",
       "      <td>0.0000</td>\n",
       "    </tr>\n",
       "    <tr>\n",
       "      <th>3</th>\n",
       "      <td>0.353474</td>\n",
       "      <td>0.169725</td>\n",
       "      <td>0.0</td>\n",
       "      <td>0.0625</td>\n",
       "    </tr>\n",
       "    <tr>\n",
       "      <th>4</th>\n",
       "      <td>0.359517</td>\n",
       "      <td>0.165138</td>\n",
       "      <td>0.0</td>\n",
       "      <td>0.0000</td>\n",
       "    </tr>\n",
       "  </tbody>\n",
       "</table>\n",
       "</div>"
      ],
      "text/plain": [
       "   remaining_lease_months  floor_area_sqm  town  storey_range\n",
       "0                0.339879        0.059633   0.0        0.1875\n",
       "1                0.326284        0.165138   0.0        0.0000\n",
       "2                0.359517        0.165138   0.0        0.0000\n",
       "3                0.353474        0.169725   0.0        0.0625\n",
       "4                0.359517        0.165138   0.0        0.0000"
      ]
     },
     "execution_count": 135,
     "metadata": {},
     "output_type": "execute_result"
    }
   ],
   "source": [
    "X_df_hdb_scaled = pd.DataFrame(X_df_hdb_scaled_array, columns = X_df_hdb.columns)\n",
    "X_df_hdb_scaled.head()"
   ]
  },
  {
   "cell_type": "code",
   "execution_count": 136,
   "id": "074644a3",
   "metadata": {},
   "outputs": [],
   "source": [
    "# 5. Modelling Data"
   ]
  },
  {
   "cell_type": "code",
   "execution_count": 137,
   "id": "e7d54c63",
   "metadata": {},
   "outputs": [],
   "source": [
    "## Split into train and test sets\n",
    "\n",
    "from sklearn.model_selection import train_test_split\n",
    "X_train, X_test, y_train, y_test = train_test_split(X_df_hdb_scaled, y_df_hdb, test_size = 0.3, random_state=43)"
   ]
  },
  {
   "cell_type": "code",
   "execution_count": 138,
   "id": "b3c7ebb0",
   "metadata": {},
   "outputs": [],
   "source": [
    "# using ridge regression"
   ]
  },
  {
   "cell_type": "code",
   "execution_count": 139,
   "id": "ecbbecd4",
   "metadata": {},
   "outputs": [],
   "source": [
    "from sklearn.linear_model import Ridge"
   ]
  },
  {
   "cell_type": "code",
   "execution_count": 140,
   "id": "4edc3cbc",
   "metadata": {},
   "outputs": [
    {
     "data": {
      "text/html": [
       "<style>#sk-container-id-4 {color: black;background-color: white;}#sk-container-id-4 pre{padding: 0;}#sk-container-id-4 div.sk-toggleable {background-color: white;}#sk-container-id-4 label.sk-toggleable__label {cursor: pointer;display: block;width: 100%;margin-bottom: 0;padding: 0.3em;box-sizing: border-box;text-align: center;}#sk-container-id-4 label.sk-toggleable__label-arrow:before {content: \"▸\";float: left;margin-right: 0.25em;color: #696969;}#sk-container-id-4 label.sk-toggleable__label-arrow:hover:before {color: black;}#sk-container-id-4 div.sk-estimator:hover label.sk-toggleable__label-arrow:before {color: black;}#sk-container-id-4 div.sk-toggleable__content {max-height: 0;max-width: 0;overflow: hidden;text-align: left;background-color: #f0f8ff;}#sk-container-id-4 div.sk-toggleable__content pre {margin: 0.2em;color: black;border-radius: 0.25em;background-color: #f0f8ff;}#sk-container-id-4 input.sk-toggleable__control:checked~div.sk-toggleable__content {max-height: 200px;max-width: 100%;overflow: auto;}#sk-container-id-4 input.sk-toggleable__control:checked~label.sk-toggleable__label-arrow:before {content: \"▾\";}#sk-container-id-4 div.sk-estimator input.sk-toggleable__control:checked~label.sk-toggleable__label {background-color: #d4ebff;}#sk-container-id-4 div.sk-label input.sk-toggleable__control:checked~label.sk-toggleable__label {background-color: #d4ebff;}#sk-container-id-4 input.sk-hidden--visually {border: 0;clip: rect(1px 1px 1px 1px);clip: rect(1px, 1px, 1px, 1px);height: 1px;margin: -1px;overflow: hidden;padding: 0;position: absolute;width: 1px;}#sk-container-id-4 div.sk-estimator {font-family: monospace;background-color: #f0f8ff;border: 1px dotted black;border-radius: 0.25em;box-sizing: border-box;margin-bottom: 0.5em;}#sk-container-id-4 div.sk-estimator:hover {background-color: #d4ebff;}#sk-container-id-4 div.sk-parallel-item::after {content: \"\";width: 100%;border-bottom: 1px solid gray;flex-grow: 1;}#sk-container-id-4 div.sk-label:hover label.sk-toggleable__label {background-color: #d4ebff;}#sk-container-id-4 div.sk-serial::before {content: \"\";position: absolute;border-left: 1px solid gray;box-sizing: border-box;top: 0;bottom: 0;left: 50%;z-index: 0;}#sk-container-id-4 div.sk-serial {display: flex;flex-direction: column;align-items: center;background-color: white;padding-right: 0.2em;padding-left: 0.2em;position: relative;}#sk-container-id-4 div.sk-item {position: relative;z-index: 1;}#sk-container-id-4 div.sk-parallel {display: flex;align-items: stretch;justify-content: center;background-color: white;position: relative;}#sk-container-id-4 div.sk-item::before, #sk-container-id-4 div.sk-parallel-item::before {content: \"\";position: absolute;border-left: 1px solid gray;box-sizing: border-box;top: 0;bottom: 0;left: 50%;z-index: -1;}#sk-container-id-4 div.sk-parallel-item {display: flex;flex-direction: column;z-index: 1;position: relative;background-color: white;}#sk-container-id-4 div.sk-parallel-item:first-child::after {align-self: flex-end;width: 50%;}#sk-container-id-4 div.sk-parallel-item:last-child::after {align-self: flex-start;width: 50%;}#sk-container-id-4 div.sk-parallel-item:only-child::after {width: 0;}#sk-container-id-4 div.sk-dashed-wrapped {border: 1px dashed gray;margin: 0 0.4em 0.5em 0.4em;box-sizing: border-box;padding-bottom: 0.4em;background-color: white;}#sk-container-id-4 div.sk-label label {font-family: monospace;font-weight: bold;display: inline-block;line-height: 1.2em;}#sk-container-id-4 div.sk-label-container {text-align: center;}#sk-container-id-4 div.sk-container {/* jupyter's `normalize.less` sets `[hidden] { display: none; }` but bootstrap.min.css set `[hidden] { display: none !important; }` so we also need the `!important` here to be able to override the default hidden behavior on the sphinx rendered scikit-learn.org. See: https://github.com/scikit-learn/scikit-learn/issues/21755 */display: inline-block !important;position: relative;}#sk-container-id-4 div.sk-text-repr-fallback {display: none;}</style><div id=\"sk-container-id-4\" class=\"sk-top-container\"><div class=\"sk-text-repr-fallback\"><pre>Ridge()</pre><b>In a Jupyter environment, please rerun this cell to show the HTML representation or trust the notebook. <br />On GitHub, the HTML representation is unable to render, please try loading this page with nbviewer.org.</b></div><div class=\"sk-container\" hidden><div class=\"sk-item\"><div class=\"sk-estimator sk-toggleable\"><input class=\"sk-toggleable__control sk-hidden--visually\" id=\"sk-estimator-id-4\" type=\"checkbox\" checked><label for=\"sk-estimator-id-4\" class=\"sk-toggleable__label sk-toggleable__label-arrow\">Ridge</label><div class=\"sk-toggleable__content\"><pre>Ridge()</pre></div></div></div></div></div>"
      ],
      "text/plain": [
       "Ridge()"
      ]
     },
     "execution_count": 140,
     "metadata": {},
     "output_type": "execute_result"
    }
   ],
   "source": [
    "ridge_model = Ridge()\n",
    "ridge_model.fit(X_train, y_train)"
   ]
  },
  {
   "cell_type": "code",
   "execution_count": 141,
   "id": "e0213ef2",
   "metadata": {},
   "outputs": [],
   "source": [
    "y_pred_train = ridge_model.predict(X_train)\n",
    "y_pred_test = ridge_model.predict(X_test)"
   ]
  },
  {
   "cell_type": "code",
   "execution_count": 142,
   "id": "274faf09",
   "metadata": {},
   "outputs": [
    {
     "name": "stdout",
     "output_type": "stream",
     "text": [
      "train r2_score is: 0.548\n",
      "test r2_score is: 0.546\n"
     ]
    }
   ],
   "source": [
    "print(\"train r2_score is:\", round(r2_score(y_train, y_pred_train), 3))\n",
    "print(\"test r2_score is:\", round(r2_score(y_test, y_pred_test),3))"
   ]
  },
  {
   "cell_type": "code",
   "execution_count": 143,
   "id": "21f70408",
   "metadata": {},
   "outputs": [],
   "source": [
    "# deploy ridge_model"
   ]
  },
  {
   "cell_type": "code",
   "execution_count": 144,
   "id": "f8fbdf29",
   "metadata": {},
   "outputs": [
    {
     "data": {
      "text/plain": [
       "['ridge_model.pkl']"
      ]
     },
     "execution_count": 144,
     "metadata": {},
     "output_type": "execute_result"
    }
   ],
   "source": [
    "import joblib\n",
    "joblib.dump(ridge_model, 'ridge_model.pkl')"
   ]
  }
 ],
 "metadata": {
  "kernelspec": {
   "display_name": "Python 3 (ipykernel)",
   "language": "python",
   "name": "python3"
  },
  "language_info": {
   "codemirror_mode": {
    "name": "ipython",
    "version": 3
   },
   "file_extension": ".py",
   "mimetype": "text/x-python",
   "name": "python",
   "nbconvert_exporter": "python",
   "pygments_lexer": "ipython3",
   "version": "3.9.12"
  },
  "toc": {
   "base_numbering": 1,
   "nav_menu": {},
   "number_sections": true,
   "sideBar": true,
   "skip_h1_title": false,
   "title_cell": "Table of Contents",
   "title_sidebar": "Contents",
   "toc_cell": false,
   "toc_position": {},
   "toc_section_display": true,
   "toc_window_display": false
  }
 },
 "nbformat": 4,
 "nbformat_minor": 5
}
