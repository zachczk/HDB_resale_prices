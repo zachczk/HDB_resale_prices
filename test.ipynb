{
 "cells": [
  {
   "cell_type": "code",
   "execution_count": 2,
   "id": "c0b73efb",
   "metadata": {},
   "outputs": [],
   "source": [
    "import pandas as pd"
   ]
  },
  {
   "cell_type": "code",
   "execution_count": 16,
   "id": "908b77a8",
   "metadata": {},
   "outputs": [],
   "source": [
    "selected_town = 'YISHUN'\n",
    "selected_storey_range = '01 TO 03'\n",
    "remaining_lease_months = 100\n",
    "floor_area_sqm = 100"
   ]
  },
  {
   "cell_type": "code",
   "execution_count": 17,
   "id": "1309951f",
   "metadata": {},
   "outputs": [],
   "source": [
    "town_mapping = {\n",
    "    'ANG MO KIO': 0,\n",
    "    'BEDOK': 1,\n",
    "    'BISHAN': 2,\n",
    "    'BUKIT BATOK': 3,\n",
    "    'BUKIT MERAH': 4,\n",
    "    'BUKIT PANJANG': 5,\n",
    "    'BUKIT TIMAH': 6,\n",
    "    'CENTRAL AREA': 7,\n",
    "    'CHOA CHU KANG': 8,\n",
    "    'CLEMENTI': 9,\n",
    "    'GEYLANG': 10,\n",
    "    'HOUGANG': 11,\n",
    "    'JURONG EAST': 12,\n",
    "    'JURONG WEST': 13,\n",
    "    'KALLANG/WHAMPOA': 14,\n",
    "    'MARINE PARADE': 15,\n",
    "    'PASIR RIS': 16,\n",
    "    'PUNGGOL': 17,\n",
    "    'QUEENSTOWN': 18,\n",
    "    'SEMBAWANG': 19,\n",
    "    'SENGKANG': 20,\n",
    "    'SERANGOON': 21,\n",
    "    'TAMPINES': 22,\n",
    "    'TOA PAYOH': 23,\n",
    "    'WOODLANDS': 24,\n",
    "    'YISHUN': 25\n",
    "}\n",
    "\n",
    "if selected_town in town_mapping:\n",
    "    selected_town = town_mapping[selected_town]\n",
    "    \n",
    "\n",
    "storey_mapping = {\n",
    "    '01 TO 03': 0,\n",
    "    '04 TO 06': 1,\n",
    "    '07 TO 09': 2,\n",
    "    '10 TO 12': 3,\n",
    "    '13 TO 15': 4,\n",
    "    '16 TO 18': 5,\n",
    "    '19 TO 21': 6,\n",
    "    '22 TO 24': 7,\n",
    "    '25 TO 27': 8,\n",
    "    '28 TO 30': 9,\n",
    "    '31 TO 33': 10,\n",
    "    '34 TO 36': 11,\n",
    "    '37 TO 39': 12,\n",
    "    '40 TO 42': 13,\n",
    "    '43 TO 45': 14,\n",
    "    '46 TO 48': 15,\n",
    "    '49 TO 51': 16\n",
    "}\n",
    "\n",
    "if selected_storey_range in storey_mapping:\n",
    "    selected_storey_range = storey_mapping[selected_storey_range]\n"
   ]
  },
  {
   "cell_type": "code",
   "execution_count": 18,
   "id": "38ef02ec",
   "metadata": {},
   "outputs": [
    {
     "data": {
      "text/plain": [
       "25"
      ]
     },
     "execution_count": 18,
     "metadata": {},
     "output_type": "execute_result"
    }
   ],
   "source": [
    "selected_town"
   ]
  },
  {
   "cell_type": "code",
   "execution_count": 22,
   "id": "3124ef73",
   "metadata": {},
   "outputs": [
    {
     "data": {
      "text/plain": [
       "0"
      ]
     },
     "execution_count": 22,
     "metadata": {},
     "output_type": "execute_result"
    }
   ],
   "source": [
    "selected_storey_range"
   ]
  },
  {
   "cell_type": "code",
   "execution_count": 29,
   "id": "b8aebabe",
   "metadata": {},
   "outputs": [],
   "source": [
    "def scale_features(df):\n",
    "    scaled_df = pd.DataFrame()\n",
    "    for column in df.columns:\n",
    "        max_value = df[column].max()\n",
    "        min_value = df[column].min()\n",
    "        \n",
    "        # Check if the range is zero\n",
    "        if max_value == min_value:\n",
    "            scaled_df[column] = df[column]  # Set the column as it is\n",
    "        else:\n",
    "            scaled_df[column] = (df[column] - min_value) / (max_value - min_value)\n",
    "    return scaled_df"
   ]
  },
  {
   "cell_type": "code",
   "execution_count": 30,
   "id": "c7b2a6c2",
   "metadata": {},
   "outputs": [
    {
     "data": {
      "text/html": [
       "<div>\n",
       "<style scoped>\n",
       "    .dataframe tbody tr th:only-of-type {\n",
       "        vertical-align: middle;\n",
       "    }\n",
       "\n",
       "    .dataframe tbody tr th {\n",
       "        vertical-align: top;\n",
       "    }\n",
       "\n",
       "    .dataframe thead th {\n",
       "        text-align: right;\n",
       "    }\n",
       "</style>\n",
       "<table border=\"1\" class=\"dataframe\">\n",
       "  <thead>\n",
       "    <tr style=\"text-align: right;\">\n",
       "      <th></th>\n",
       "      <th>remaining_lease_months</th>\n",
       "      <th>floor_area_sqm</th>\n",
       "      <th>town</th>\n",
       "      <th>storey_range</th>\n",
       "    </tr>\n",
       "  </thead>\n",
       "  <tbody>\n",
       "    <tr>\n",
       "      <th>0</th>\n",
       "      <td>100</td>\n",
       "      <td>100</td>\n",
       "      <td>25</td>\n",
       "      <td>0</td>\n",
       "    </tr>\n",
       "  </tbody>\n",
       "</table>\n",
       "</div>"
      ],
      "text/plain": [
       "   remaining_lease_months  floor_area_sqm  town  storey_range\n",
       "0                     100             100    25             0"
      ]
     },
     "execution_count": 30,
     "metadata": {},
     "output_type": "execute_result"
    }
   ],
   "source": [
    "data = {\n",
    "    'remaining_lease_months': [remaining_lease_months],\n",
    "    'floor_area_sqm': [floor_area_sqm],\n",
    "    'town': [selected_town],\n",
    "    'storey_range': [selected_storey_range]\n",
    "}\n",
    "\n",
    "X_df = pd.DataFrame(data, index=[0])\n",
    "X_df"
   ]
  },
  {
   "cell_type": "code",
   "execution_count": 31,
   "id": "ea8d50fd",
   "metadata": {},
   "outputs": [
    {
     "data": {
      "text/html": [
       "<div>\n",
       "<style scoped>\n",
       "    .dataframe tbody tr th:only-of-type {\n",
       "        vertical-align: middle;\n",
       "    }\n",
       "\n",
       "    .dataframe tbody tr th {\n",
       "        vertical-align: top;\n",
       "    }\n",
       "\n",
       "    .dataframe thead th {\n",
       "        text-align: right;\n",
       "    }\n",
       "</style>\n",
       "<table border=\"1\" class=\"dataframe\">\n",
       "  <thead>\n",
       "    <tr style=\"text-align: right;\">\n",
       "      <th></th>\n",
       "      <th>remaining_lease_months</th>\n",
       "      <th>floor_area_sqm</th>\n",
       "      <th>town</th>\n",
       "      <th>storey_range</th>\n",
       "    </tr>\n",
       "  </thead>\n",
       "  <tbody>\n",
       "    <tr>\n",
       "      <th>0</th>\n",
       "      <td>100</td>\n",
       "      <td>100</td>\n",
       "      <td>25</td>\n",
       "      <td>0</td>\n",
       "    </tr>\n",
       "  </tbody>\n",
       "</table>\n",
       "</div>"
      ],
      "text/plain": [
       "   remaining_lease_months  floor_area_sqm  town  storey_range\n",
       "0                     100             100    25             0"
      ]
     },
     "execution_count": 31,
     "metadata": {},
     "output_type": "execute_result"
    }
   ],
   "source": [
    "X_scaled_df = scale_features(X_df)\n",
    "X_scaled_df"
   ]
  },
  {
   "cell_type": "code",
   "execution_count": null,
   "id": "86b58eca",
   "metadata": {},
   "outputs": [],
   "source": []
  }
 ],
 "metadata": {
  "kernelspec": {
   "display_name": "Python 3 (ipykernel)",
   "language": "python",
   "name": "python3"
  },
  "language_info": {
   "codemirror_mode": {
    "name": "ipython",
    "version": 3
   },
   "file_extension": ".py",
   "mimetype": "text/x-python",
   "name": "python",
   "nbconvert_exporter": "python",
   "pygments_lexer": "ipython3",
   "version": "3.9.16"
  },
  "toc": {
   "base_numbering": 1,
   "nav_menu": {},
   "number_sections": true,
   "sideBar": true,
   "skip_h1_title": false,
   "title_cell": "Table of Contents",
   "title_sidebar": "Contents",
   "toc_cell": false,
   "toc_position": {},
   "toc_section_display": true,
   "toc_window_display": false
  }
 },
 "nbformat": 4,
 "nbformat_minor": 5
}
